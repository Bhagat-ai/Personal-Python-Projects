{
 "cells": [
  {
   "cell_type": "code",
   "execution_count": 1,
   "id": "b30cf177",
   "metadata": {},
   "outputs": [
    {
     "name": "stdout",
     "output_type": "stream",
     "text": [
      "Enter coefficients of ax^6+bx+c  :   2 0 5\n",
      "   6\n",
      "2 x + 5\n",
      "The complex roots of the equation is : \n",
      "[-1.00891358e+00+0.58249653j -1.00891358e+00-0.58249653j\n",
      " -1.24900090e-16+1.16499305j -1.24900090e-16-1.16499305j\n",
      "  1.00891358e+00+0.58249653j  1.00891358e+00-0.58249653j]\n"
     ]
    },
    {
     "data": {
      "image/png": "[encoded data removed]",
      "text/plain": [
       "<Figure size 432x288 with 1 Axes>"
      ]
     },
     "metadata": {
      "needs_background": "light"
     },
     "output_type": "display_data"
    },
    {
     "name": "stdout",
     "output_type": "stream",
     "text": [
      "Equation of the circle is : x^2 + y^2 = 1.3572088082974578\n"
     ]
    }
   ],
   "source": [
    "import math\n",
    "from math import sqrt\n",
    "import numpy as np\n",
    "import matplotlib.pyplot as plt\n",
    "def func(x,y,z):\n",
    "    x=int(x)\n",
    "    y=int(y)\n",
    "    z=int(z)\n",
    "    p = np.poly1d([x,0,0,0,0,y,z])\n",
    "    print(p)\n",
    "    roots=p.r\n",
    "    c = roots.real[abs(roots.imag)>1e-5]\n",
    "    d = roots.imag[abs(roots.imag)>1e-5]\n",
    "    e=[]\n",
    "    x = [ complex(c[i], d[i]) for i in range(len(d)) ] \n",
    "    y=np.array(x)\n",
    "    print(\"The complex roots of the equation is : \")\n",
    "    print(roots)\n",
    "    for i in range(0,len(c),2):\n",
    "        e.append(c[i]**2+d[i]**2)\n",
    "    rad=sqrt(max(e))\n",
    "    angle = np.linspace( 0 , 2 * np.pi , 150 ) \n",
    "    radius = rad\n",
    "    a = radius * np.cos( angle ) \n",
    "    b = radius * np.sin( angle ) \n",
    "    figure, axes = plt.subplots( 1 ) \n",
    "    \n",
    "    axes.plot( a, b) \n",
    "    axes.set_aspect( 1 ) \n",
    "    plt.scatter(roots.real,roots.imag)\n",
    "    plt.xlabel(\"Real\")\n",
    "    plt.ylabel(\"Imaginary\")\n",
    "    plt.title(\"Roots of Equation\")\n",
    "    plt.axvline(0, c='black', ls='-')\n",
    "    plt.axhline(0, c='black', ls='-')\n",
    "    plt.show()\n",
    "    print(\"Equation of the circle is : x^2 + y^2 = \"+str(rad**2))\n",
    "    return;\n",
    "a,b,c=input(\"Enter coefficients of ax^6+bx+c  :   \").split();\n",
    "func(a,b,c);\n"
   ]
  },
  {
   "cell_type": "code",
   "execution_count": null,
   "id": "ac2e501e",
   "metadata": {},
   "outputs": [],
   "source": []
  }
 ],
 "metadata": {
  "kernelspec": {
   "display_name": "Python 3",
   "language": "python",
   "name": "python3"
  },
  "language_info": {
   "codemirror_mode": {
    "name": "ipython",
    "version": 3
   },
   "file_extension": ".py",
   "mimetype": "text/x-python",
   "name": "python",
   "nbconvert_exporter": "python",
   "pygments_lexer": "ipython3",
   "version": "3.8.8"
  }
 },
 "nbformat": 4,
 "nbformat_minor": 5
}
