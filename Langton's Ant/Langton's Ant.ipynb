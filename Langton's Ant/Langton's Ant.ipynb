{
 "cells": [
  {
   "cell_type": "code",
   "execution_count": null,
   "id": "e6e89365",
   "metadata": {},
   "outputs": [],
   "source": [
    "import turtle\n",
    "  \n",
    "def langton():\n",
    "    window = turtle.Screen()\n",
    "    window.bgcolor('white')\n",
    "    window.screensize(64,64)\n",
    "    maps = {}\n",
    "    ant = turtle.Turtle()\n",
    "    ant.shape('square')   \n",
    "    ant.shapesize(0.5)\n",
    "    ant.speed(1000000000)                                 \n",
    "    pos = coordinate(ant)                             \n",
    "      \n",
    "    while True:\n",
    "        step = 10                                     \n",
    "        if pos not in maps or maps[pos] == \"white\":\n",
    "            ant.fillcolor(\"black\")        \n",
    "            ant.stamp()                                 \n",
    "            invert(maps, ant, \"black\")\n",
    "            ant.right(90)\n",
    "            ant.forward(step)                         \n",
    "            pos = coordinate(ant)\n",
    "              \n",
    "        elif maps[pos] == \"black\":\n",
    "            ant.fillcolor(\"white\")\n",
    "            invert(maps, ant, \"white\")\n",
    "            ant.stamp()\n",
    "            ant.left(90)\n",
    "            ant.forward(step)\n",
    "            pos = coordinate(ant)\n",
    "  \n",
    "def invert(graph, ant, color):\n",
    "    graph[coordinate(ant)] = color\n",
    "  \n",
    "def coordinate(ant):\n",
    "    return (round(ant.xcor()), round(ant.ycor()))\n",
    "  \n",
    "langton()"
   ]
  },
  {
   "cell_type": "code",
   "execution_count": null,
   "id": "efbfbce8",
   "metadata": {},
   "outputs": [],
   "source": []
  }
 ],
 "metadata": {
  "kernelspec": {
   "display_name": "Python 3",
   "language": "python",
   "name": "python3"
  },
  "language_info": {
   "codemirror_mode": {
    "name": "ipython",
    "version": 3
   },
   "file_extension": ".py",
   "mimetype": "text/x-python",
   "name": "python",
   "nbconvert_exporter": "python",
   "pygments_lexer": "ipython3",
   "version": "3.8.8"
  }
 },
 "nbformat": 4,
 "nbformat_minor": 5
}
